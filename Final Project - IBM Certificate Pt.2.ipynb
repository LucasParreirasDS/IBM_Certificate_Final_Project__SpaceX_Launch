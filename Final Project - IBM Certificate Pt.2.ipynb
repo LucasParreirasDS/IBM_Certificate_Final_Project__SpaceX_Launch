{
    "cells": [
        {
            "cell_type": "markdown",
            "metadata": {},
            "source": "<center>\n    <img src=\"https://gitlab.com/ibm/skills-network/courses/placeholder101/-/raw/master/labs/module%201/images/IDSNlogo.png\" width=\"300\" alt=\"cognitiveclass.ai logo\"  />\n</center>\n"
        },
        {
            "cell_type": "markdown",
            "metadata": {},
            "source": "# **Space X  Falcon 9 First Stage Landing Prediction**\n"
        },
        {
            "cell_type": "markdown",
            "metadata": {},
            "source": "## Web scraping Falcon 9 and Falcon Heavy Launches Records from Wikipedia\n"
        },
        {
            "cell_type": "markdown",
            "metadata": {},
            "source": "Estimated time needed: **40** minutes\n"
        },
        {
            "cell_type": "markdown",
            "metadata": {},
            "source": "In this lab, you will be performing web scraping to collect Falcon 9 historical launch records from a Wikipedia page titled `List of Falcon 9 and Falcon Heavy launches`\n\n[https://en.wikipedia.org/wiki/List_of_Falcon\\_9\\_and_Falcon_Heavy_launches](https://en.wikipedia.org/wiki/List_of_Falcon\\_9\\_and_Falcon_Heavy_launches?utm_medium=Exinfluencer&utm_source=Exinfluencer&utm_content=000026UJ&utm_term=10006555&utm_id=NA-SkillsNetwork-Channel-SkillsNetworkCoursesIBMDS0321ENSkillsNetwork26802033-2021-01-01)\n"
        },
        {
            "cell_type": "markdown",
            "metadata": {},
            "source": "![](https://cf-courses-data.s3.us.cloud-object-storage.appdomain.cloud/IBM-DS0321EN-SkillsNetwork/labs/module\\_1\\_L2/images/Falcon9\\_rocket_family.svg)\n"
        },
        {
            "cell_type": "markdown",
            "metadata": {},
            "source": "Falcon 9 first stage will land successfully\n"
        },
        {
            "cell_type": "markdown",
            "metadata": {},
            "source": "![](https://cf-courses-data.s3.us.cloud-object-storage.appdomain.cloud/IBMDeveloperSkillsNetwork-DS0701EN-SkillsNetwork/api/Images/landing\\_1.gif)\n"
        },
        {
            "cell_type": "markdown",
            "metadata": {},
            "source": "Several examples of an unsuccessful landing are shown here:\n"
        },
        {
            "cell_type": "markdown",
            "metadata": {},
            "source": "![](https://cf-courses-data.s3.us.cloud-object-storage.appdomain.cloud/IBMDeveloperSkillsNetwork-DS0701EN-SkillsNetwork/api/Images/crash.gif)\n"
        },
        {
            "cell_type": "markdown",
            "metadata": {},
            "source": "More specifically, the launch records are stored in a HTML table shown below:\n"
        },
        {
            "cell_type": "markdown",
            "metadata": {},
            "source": "![](https://cf-courses-data.s3.us.cloud-object-storage.appdomain.cloud/IBM-DS0321EN-SkillsNetwork/labs/module\\_1\\_L2/images/falcon9-launches-wiki.png)\n"
        },
        {
            "cell_type": "markdown",
            "metadata": {},
            "source": "## Objectives\n\nWeb scrap Falcon 9 launch records with `BeautifulSoup`:\n\n*   Extract a Falcon 9 launch records HTML table from Wikipedia\n*   Parse the table and convert it into a Pandas data frame\n"
        },
        {
            "cell_type": "markdown",
            "metadata": {},
            "source": "First let's import required packages for this lab\n"
        },
        {
            "cell_type": "code",
            "execution_count": 1,
            "metadata": {},
            "outputs": [
                {
                    "name": "stdout",
                    "output_type": "stream",
                    "text": "Requirement already satisfied: beautifulsoup4 in /opt/conda/envs/Python-3.9/lib/python3.9/site-packages (4.10.0)\nRequirement already satisfied: soupsieve>1.2 in /opt/conda/envs/Python-3.9/lib/python3.9/site-packages (from beautifulsoup4) (2.3.1)\nRequirement already satisfied: requests in /opt/conda/envs/Python-3.9/lib/python3.9/site-packages (2.26.0)\nRequirement already satisfied: charset-normalizer~=2.0.0 in /opt/conda/envs/Python-3.9/lib/python3.9/site-packages (from requests) (2.0.4)\nRequirement already satisfied: idna<4,>=2.5 in /opt/conda/envs/Python-3.9/lib/python3.9/site-packages (from requests) (3.3)\nRequirement already satisfied: urllib3<1.27,>=1.21.1 in /opt/conda/envs/Python-3.9/lib/python3.9/site-packages (from requests) (1.26.7)\nRequirement already satisfied: certifi>=2017.4.17 in /opt/conda/envs/Python-3.9/lib/python3.9/site-packages (from requests) (2021.10.8)\n"
                }
            ],
            "source": "!pip3 install beautifulsoup4\n!pip3 install requests"
        },
        {
            "cell_type": "code",
            "execution_count": 2,
            "metadata": {},
            "outputs": [],
            "source": "import sys\n\nimport requests\nfrom bs4 import BeautifulSoup\nimport re\nimport unicodedata\nimport pandas as pd"
        },
        {
            "cell_type": "markdown",
            "metadata": {},
            "source": "and we will provide some helper functions for you to process web scraped HTML table\n"
        },
        {
            "cell_type": "code",
            "execution_count": 3,
            "metadata": {},
            "outputs": [],
            "source": "def date_time(table_cells):\n    \"\"\"\n    This function returns the data and time from the HTML  table cell\n    Input: the  element of a table data cell extracts extra row\n    \"\"\"\n    return [data_time.strip() for data_time in list(table_cells.strings)][0:2]\n\ndef booster_version(table_cells):\n    \"\"\"\n    This function returns the booster version from the HTML  table cell \n    Input: the  element of a table data cell extracts extra row\n    \"\"\"\n    out=''.join([booster_version for i,booster_version in enumerate( table_cells.strings) if i%2==0][0:-1])\n    return out\n\ndef landing_status(table_cells):\n    \"\"\"\n    This function returns the landing status from the HTML table cell \n    Input: the  element of a table data cell extracts extra row\n    \"\"\"\n    out=[i for i in table_cells.strings][0]\n    return out\n\n\ndef get_mass(table_cells):\n    mass=unicodedata.normalize(\"NFKD\", table_cells.text).strip()\n    if mass:\n        mass.find(\"kg\")\n        new_mass=mass[0:mass.find(\"kg\")+2]\n    else:\n        new_mass=0\n    return new_mass\n\n\ndef extract_column_from_header(row):\n    \"\"\"\n    This function returns the landing status from the HTML table cell \n    Input: the  element of a table data cell extracts extra row\n    \"\"\"\n    if (row.br):\n        row.br.extract()\n    if row.a:\n        row.a.extract()\n    if row.sup:\n        row.sup.extract()\n        \n    colunm_name = ' '.join(row.contents)\n    \n    # Filter the digit and empty names\n    if not(colunm_name.strip().isdigit()):\n        colunm_name = colunm_name.strip()\n        return colunm_name    \n"
        },
        {
            "cell_type": "markdown",
            "metadata": {},
            "source": "To keep the lab tasks consistent, you will be asked to scrape the data from a snapshot of the  `List of Falcon 9 and Falcon Heavy launches` Wikipage updated on\n`9th June 2021`\n"
        },
        {
            "cell_type": "code",
            "execution_count": 4,
            "metadata": {},
            "outputs": [],
            "source": "static_url = \"https://en.wikipedia.org/w/index.php?title=List_of_Falcon_9_and_Falcon_Heavy_launches&oldid=1027686922\""
        },
        {
            "cell_type": "markdown",
            "metadata": {},
            "source": "Next, request the HTML page from the above URL and get a `response` object\n"
        },
        {
            "cell_type": "markdown",
            "metadata": {},
            "source": "### TASK 1: Request the Falcon9 Launch Wiki page from its URL\n"
        },
        {
            "cell_type": "markdown",
            "metadata": {},
            "source": "First, let's perform an HTTP GET method to request the Falcon9 Launch HTML page, as an HTTP response.\n"
        },
        {
            "cell_type": "code",
            "execution_count": 5,
            "metadata": {},
            "outputs": [],
            "source": "# use requests.get() method with the provided static_url\n# assign the response to a object\nresponse = requests.get(static_url).text\n"
        },
        {
            "cell_type": "markdown",
            "metadata": {},
            "source": "Create a `BeautifulSoup` object from the HTML `response`\n"
        },
        {
            "cell_type": "code",
            "execution_count": 6,
            "metadata": {},
            "outputs": [],
            "source": "# Use BeautifulSoup() to create a BeautifulSoup object from a response text content\nsoup = BeautifulSoup(response, 'html.parser')"
        },
        {
            "cell_type": "markdown",
            "metadata": {},
            "source": "Print the page title to verify if the `BeautifulSoup` object was created properly\n"
        },
        {
            "cell_type": "code",
            "execution_count": 7,
            "metadata": {},
            "outputs": [
                {
                    "data": {
                        "text/plain": "<title>List of Falcon 9 and Falcon Heavy launches - Wikipedia</title>"
                    },
                    "execution_count": 7,
                    "metadata": {},
                    "output_type": "execute_result"
                }
            ],
            "source": "# Use soup.title attribute\nsoup.title"
        },
        {
            "cell_type": "markdown",
            "metadata": {},
            "source": "### TASK 2: Extract all column/variable names from the HTML table header\n"
        },
        {
            "cell_type": "markdown",
            "metadata": {},
            "source": "Next, we want to collect all relevant column names from the HTML table header\n"
        },
        {
            "cell_type": "markdown",
            "metadata": {},
            "source": "Let's try to find all tables on the wiki page first. If you need to refresh your memory about `BeautifulSoup`, please check the external reference link towards the end of this lab\n"
        },
        {
            "cell_type": "code",
            "execution_count": 8,
            "metadata": {},
            "outputs": [],
            "source": "# Use the find_all function in the BeautifulSoup object, with element type `table`\n# Assign the result to a list called `html_tables`\nhtml_tables = soup.find_all('table', {'class':\"wikitable plainrowheaders collapsible\"})\n"
        },
        {
            "cell_type": "markdown",
            "metadata": {},
            "source": "Starting from the third table is our target table contains the actual launch records.\n"
        },
        {
            "cell_type": "code",
            "execution_count": 9,
            "metadata": {},
            "outputs": [],
            "source": "# Let's print the third table and check its content\nfirst_launch_table = html_tables[2]\n"
        },
        {
            "cell_type": "markdown",
            "metadata": {},
            "source": "You should able to see the columns names embedded in the table header elements `<th>` as follows:\n"
        },
        {
            "cell_type": "markdown",
            "metadata": {},
            "source": "```\n<tr>\n<th scope=\"col\">Flight No.\n</th>\n<th scope=\"col\">Date and<br/>time (<a href=\"/wiki/Coordinated_Universal_Time\" title=\"Coordinated Universal Time\">UTC</a>)\n</th>\n<th scope=\"col\"><a href=\"/wiki/List_of_Falcon_9_first-stage_boosters\" title=\"List of Falcon 9 first-stage boosters\">Version,<br/>Booster</a> <sup class=\"reference\" id=\"cite_ref-booster_11-0\"><a href=\"#cite_note-booster-11\">[b]</a></sup>\n</th>\n<th scope=\"col\">Launch site\n</th>\n<th scope=\"col\">Payload<sup class=\"reference\" id=\"cite_ref-Dragon_12-0\"><a href=\"#cite_note-Dragon-12\">[c]</a></sup>\n</th>\n<th scope=\"col\">Payload mass\n</th>\n<th scope=\"col\">Orbit\n</th>\n<th scope=\"col\">Customer\n</th>\n<th scope=\"col\">Launch<br/>outcome\n</th>\n<th scope=\"col\"><a href=\"/wiki/Falcon_9_first-stage_landing_tests\" title=\"Falcon 9 first-stage landing tests\">Booster<br/>landing</a>\n</th></tr>\n```\n"
        },
        {
            "cell_type": "markdown",
            "metadata": {},
            "source": "Next, we just need to iterate through the `<th>` elements and apply the provided `extract_column_from_header()` to extract column name one by one\n"
        },
        {
            "cell_type": "code",
            "execution_count": 10,
            "metadata": {},
            "outputs": [],
            "source": "column_names = []\n\n# Apply find_all() function with `th` element on first_launch_table\n# Iterate each th element and apply the provided extract_column_from_header() to get a column name\n# Append the Non-empty column name (`if name is not None and len(name) > 0`) into a list called column_names\nfor x in first_launch_table.find_all('th'):\n    column_names.append(x.text.replace('\\n', ''))\ncolumn_names = column_names[:10]\n"
        },
        {
            "cell_type": "markdown",
            "metadata": {},
            "source": "Check the extracted column names\n"
        },
        {
            "cell_type": "code",
            "execution_count": 11,
            "metadata": {},
            "outputs": [
                {
                    "name": "stdout",
                    "output_type": "stream",
                    "text": "['Flight No.', 'Date andtime (UTC)', 'Version,Booster[b]', 'Launch site', 'Payload[c]', 'Payload mass', 'Orbit', 'Customer', 'Launchoutcome', 'Boosterlanding']\n"
                }
            ],
            "source": "print(column_names)"
        },
        {
            "cell_type": "markdown",
            "metadata": {},
            "source": "## TASK 3: Create a data frame by parsing the launch HTML tables\n"
        },
        {
            "cell_type": "markdown",
            "metadata": {},
            "source": "We will create an empty dictionary with keys from the extracted column names in the previous task. Later, this dictionary will be converted into a Pandas dataframe\n"
        },
        {
            "cell_type": "code",
            "execution_count": 12,
            "metadata": {},
            "outputs": [],
            "source": "launch_dict= dict.fromkeys(column_names)\n\n# Remove an irrelvant column\ndel launch_dict['Date andtime (UTC)']\n\n# Let's initial the launch_dict with each value to be an empty list\nlaunch_dict['Flight No.'] = []\nlaunch_dict['Launch Site'] = []\nlaunch_dict['Payload'] = []\nlaunch_dict['Payload Mass'] = []\nlaunch_dict['Orbit'] = []\nlaunch_dict['Customer'] = []\nlaunch_dict['Launch Outcome'] = []\n# Added some new columns\nlaunch_dict['Version Booster']=[]\nlaunch_dict['Booster Landing']=[]\nlaunch_dict['Date']=[]\nlaunch_dict['Time']=[]"
        },
        {
            "cell_type": "markdown",
            "metadata": {},
            "source": "Next, we just need to fill up the `launch_dict` with launch records extracted from table rows.\n"
        },
        {
            "cell_type": "markdown",
            "metadata": {},
            "source": "Usually, HTML tables in Wiki pages are likely to contain unexpected annotations and other types of noises, such as reference links `B0004.1[8]`, missing values `N/A [e]`, inconsistent formatting, etc.\n"
        },
        {
            "cell_type": "markdown",
            "metadata": {},
            "source": "To simplify the parsing process, we have provided an incomplete code snippet below to help you to fill up the `launch_dict`. Please complete the following code snippet with TODOs or you can choose to write your own logic to parse all launch tables:\n"
        },
        {
            "cell_type": "code",
            "execution_count": 15,
            "metadata": {},
            "outputs": [
                {
                    "name": "stdout",
                    "output_type": "stream",
                    "text": "1\nF9 v1.0B0003.1\n2\nF9 v1.0B0004.1\n3\nF9 v1.0B0005.1\n4\nF9 v1.0B0006.1\n5\nF9 v1.0B0007.1\n6\nF9 v1.1B1003\n7\nF9 v1.1\n8\nF9 v1.1\n9\nF9 v1.1\n10\nF9 v1.1\n11\nF9 v1.1\n12\nF9 v1.1\n13\nF9 v1.1\n14\nF9 v1.1\n15\nF9 v1.1\n16\nF9 v1.1\n17\nF9 v1.1\n18\nF9 v1.1\n19\nF9 v1.1\n20\nF9 FT\n21\nF9 v1.1\n22\nF9 FT\n23\nF9 FT\n24\nF9 FT\n25\nF9 FT\n26\nF9 FT\n27\nF9 FT\n28\nF9 FT\n29\nF9 FT\n30\nF9 FT\n31\nF9 FT\n32\nF9 FT\u267a\n33\nF9 FT\n34\nF9 FT\n35\nF9 FT\n36\nF9 FTB1029.2\n37\nF9 FT\n38\nF9 FT\n39\nF9 B4\n40\nF9 FT\n41\nF9 B4\n42\nF9 B4\n43\nF9 FTB1031.2\n44\nF9 B4\n45\nF9 FTB1035.2\n46\nF9 FTB1036.2\n47\nF9 B4\n48\nF9 FTB1032.2\n49\nF9 FTB1038.2\n50\nF9 B4\n51\nF9 B4B1041.2\n52\nF9 B4B1039.2\n53\nF9 B4\n54\nF9 B5B1046.1\n55\nF9 B4B1043.2\n56\nF9 B4B1040.2\n57\nF9 B4B1045.2\n58\nF9 B5\n59\nF9 B5B1048\n60\nF9 B5B1046.2\n61\nF9 B5\n62\nF9 B5B1048.2\n63\nF9 B5B1047.2\n64\nF9 B5B1046.3\n65\nF9 B5\n66\nF9 B5\n67\nF9 B5B1049.2\n68\nF9 B5B1048.3\n69\nF9 B5[268]\n70\nF9 B5\n71\nF9 B5B1049.3\n72\nF9 B5B1051.2\n73\nF9 B5B1056.2\n74\nF9 B5B1047.3\n75\nF9 B5\n76\nF9 B5\n77\nF9 B5B1056.3\n78\nF9 B5\n79\nF9 B5\n80\nF9 B5\n81\nF9 B5\n82\nF9 B5\n83\nF9 B5\n84\nF9 B5\n85\nF9 B5\n86\nF9 B5\n87\nF9 B5\n88\nF9 B5\n89\nF9 B5B1058.2\n90\nF9 B5\n91\nF9 B5B1049.6\n92\nF9 B5\n93\nF9 B5B1060.2\n94\nF9 B5B1058.3\n95\nF9 B5B1051.6\n96\nF9 B5\n97\nF9 B5\n98\nF9 B5\n99\nF9 B5\n100\nF9 B5 \u267a\n101\nF9 B5 \u267a\n102\nF9 B5 \u267a\n103\nF9 B5 \u267a\n104\nF9 B5\n105\nF9 B5B1051.8\n106\nF9 B5B1058.5\n"
                },
                {
                    "ename": "AttributeError",
                    "evalue": "'NoneType' object has no attribute 'string'",
                    "output_type": "error",
                    "traceback": [
                        "\u001b[0;31m---------------------------------------------------------------------------\u001b[0m",
                        "\u001b[0;31mAttributeError\u001b[0m                            Traceback (most recent call last)",
                        "\u001b[0;32m/tmp/wsuser/ipykernel_289/497795508.py\u001b[0m in \u001b[0;36m<module>\u001b[0;34m\u001b[0m\n\u001b[1;32m     68\u001b[0m             \u001b[0;31m# Customer\u001b[0m\u001b[0;34m\u001b[0m\u001b[0;34m\u001b[0m\u001b[0m\n\u001b[1;32m     69\u001b[0m             \u001b[0;31m# TODO: Append the customer into launch_dict with key `Customer`\u001b[0m\u001b[0;34m\u001b[0m\u001b[0;34m\u001b[0m\u001b[0m\n\u001b[0;32m---> 70\u001b[0;31m             \u001b[0mcustomer\u001b[0m \u001b[0;34m=\u001b[0m \u001b[0mrow\u001b[0m\u001b[0;34m[\u001b[0m\u001b[0;36m6\u001b[0m\u001b[0;34m]\u001b[0m\u001b[0;34m.\u001b[0m\u001b[0ma\u001b[0m\u001b[0;34m.\u001b[0m\u001b[0mstring\u001b[0m\u001b[0;34m\u001b[0m\u001b[0;34m\u001b[0m\u001b[0m\n\u001b[0m\u001b[1;32m     71\u001b[0m             \u001b[0mlaunch_dict\u001b[0m\u001b[0;34m[\u001b[0m\u001b[0;34m'Customer'\u001b[0m\u001b[0;34m]\u001b[0m\u001b[0;34m.\u001b[0m\u001b[0mappend\u001b[0m\u001b[0;34m(\u001b[0m\u001b[0mcustomer\u001b[0m\u001b[0;34m)\u001b[0m\u001b[0;34m\u001b[0m\u001b[0;34m\u001b[0m\u001b[0m\n\u001b[1;32m     72\u001b[0m             \u001b[0;31m#print(customer)\u001b[0m\u001b[0;34m\u001b[0m\u001b[0;34m\u001b[0m\u001b[0m\n",
                        "\u001b[0;31mAttributeError\u001b[0m: 'NoneType' object has no attribute 'string'"
                    ]
                }
            ],
            "source": "extracted_row = 0\n#Extract each table \nfor table_number,table in enumerate(soup.find_all('table',\"wikitable plainrowheaders collapsible\")):\n   # get table row \n    for rows in table.find_all(\"tr\"):\n        #check to see if first table heading is as number corresponding to launch a number \n        if rows.th:\n            if rows.th.string:\n                flight_number=rows.th.string.strip()\n                flag=flight_number.isdigit()\n        else:\n            flag=False\n        #get table element \n        row=rows.find_all('td')\n        #if it is number save cells in a dictonary \n        if flag:\n            extracted_row += 1\n            # Flight Number value\n            # TODO: Append the flight_number into launch_dict with key `Flight No.`\n            launch_dict['Flight No.'].append(flight_number)\n            print(flight_number)\n            datatimelist=date_time(row[0])\n            \n            # Date value\n            # TODO: Append the date into launch_dict with key `Date`\n            date = datatimelist[0].strip(',')\n            launch_dict['Date'].append(date)\n            #print(date)\n            \n            # Time value\n            # TODO: Append the time into launch_dict with key `Time`\n            time = datatimelist[1]\n            launch_dict['Time'].append(time)\n            #print(time)\n              \n            # Booster version\n            # TODO: Append the bv into launch_dict with key `Version Booster`\n            bv=booster_version(row[1])\n            if not(bv):\n                bv=row[1].a.string\n            print(bv)\n            launch_dict['Version Booster'].append(bv)\n            \n            # Launch Site\n            # TODO: Append the bv into launch_dict with key `Launch Site`\n            launch_dict['Launch Site'].append(bv)\n            launch_site = row[2].a.string\n            #print(launch_site)\n            \n            # Payload\n            # TODO: Append the payload into launch_dict with key `Payload`\n            payload = row[3].a.string\n            launch_dict['Payload'].append(payload)\n            #print(payload)\n            \n            # Payload Mass\n            # TODO: Append the payload_mass into launch_dict with key `Payload Mass`\n            payload_mass = get_mass(row[4])\n            launch_dict['Payload Mass'].append(payload_mass)\n            #print(payload_mass)\n            \n            # Orbit\n            # TODO: Append the orbit into launch_dict with key `Orbit`\n            orbit = row[5].a.string\n            launch_dict['Orbit'].append(orbit)\n            # print(orbit)\n            \n            # Customer\n            # TODO: Append the customer into launch_dict with key `Customer`\n            customer = row[6].a.string\n            launch_dict['Customer'].append(customer)\n            #print(customer)\n            \n            # Launch outcome\n            # TODO: Append the launch_outcome into launch_dict with key `Launch Outcome`\n            launch_outcome = list(row[7].strings)[0]\n            launch_dict['Launch Outcome'].append(launch_outcome)\n            #print(launch_outcome)\n            \n            # Booster landing\n            # TODO: Append the launch_outcome into launch_dict with key `Booster Landing`\n            booster_landing = landing_status(row[8])\n            launch_dict['Booster Landing'].append(launch_outcome)\n            #print(booster_landing)\n            "
        },
        {
            "cell_type": "markdown",
            "metadata": {},
            "source": "After you have fill in the parsed launch record values into `launch_dict`, you can create a dataframe from it.\n"
        },
        {
            "cell_type": "code",
            "execution_count": 16,
            "metadata": {},
            "outputs": [
                {
                    "data": {
                        "text/plain": "{'Flight No.': ['1',\n  '1',\n  '1',\n  '2',\n  '3',\n  '4',\n  '5',\n  '6',\n  '7',\n  '8',\n  '9',\n  '10',\n  '11',\n  '12',\n  '13',\n  '14',\n  '15',\n  '16',\n  '17',\n  '18',\n  '19',\n  '20',\n  '21',\n  '22',\n  '23',\n  '24',\n  '25',\n  '26',\n  '27',\n  '28',\n  '29',\n  '30',\n  '31',\n  '32',\n  '33',\n  '34',\n  '35',\n  '36',\n  '37',\n  '38',\n  '39',\n  '40',\n  '41',\n  '42',\n  '43',\n  '44',\n  '45',\n  '46',\n  '47',\n  '48',\n  '49',\n  '50',\n  '51',\n  '52',\n  '53',\n  '54',\n  '55',\n  '56',\n  '57',\n  '58',\n  '59',\n  '60',\n  '61',\n  '62',\n  '63',\n  '64',\n  '65',\n  '66',\n  '67',\n  '68',\n  '69',\n  '70',\n  '71',\n  '72',\n  '73',\n  '74',\n  '75',\n  '76',\n  '77',\n  '78',\n  '79',\n  '80',\n  '81',\n  '82',\n  '83',\n  '84',\n  '85',\n  '86',\n  '87',\n  '88',\n  '89',\n  '90',\n  '91',\n  '92',\n  '93',\n  '94',\n  '95',\n  '96',\n  '97',\n  '98',\n  '99',\n  '100',\n  '101',\n  '102',\n  '103',\n  '104',\n  '105',\n  '106'],\n 'Version,Booster[b]': None,\n 'Launch site': None,\n 'Payload[c]': None,\n 'Payload mass': None,\n 'Orbit': ['LEO',\n  'LEO',\n  'LEO',\n  'LEO',\n  'LEO',\n  'Polar orbit',\n  'GTO',\n  'GTO',\n  'LEO',\n  'LEO',\n  'GTO',\n  'GTO',\n  'LEO',\n  'LEO',\n  'HEO',\n  'GTO',\n  'LEO',\n  'GTO',\n  'LEO',\n  'LEO',\n  'LEO',\n  'GTO',\n  'LEO',\n  'GTO',\n  'GTO',\n  'GTO',\n  'LEO',\n  'GTO',\n  'Polar',\n  'LEO',\n  'GTO',\n  'GTO',\n  'LEO',\n  'GTO',\n  'LEO',\n  'GTO',\n  'LEO',\n  'GTO',\n  'LEO',\n  'SSO',\n  'LEO',\n  'Polar',\n  'GTO',\n  'GTO',\n  'LEO',\n  'Polar',\n  'LEO',\n  'GTO',\n  'SSO',\n  'GTO',\n  'Polar',\n  'LEO',\n  'HEO',\n  'GTO',\n  'Polar',\n  'GTO',\n  'LEO',\n  'GTO',\n  'Polar',\n  'GTO',\n  'GTO',\n  'SSO',\n  'GTO',\n  'SSO',\n  'LEO',\n  'MEO',\n  'Polar',\n  'GTO',\n  'LEO',\n  'LEO',\n  'LEO',\n  'SSO',\n  'LEO',\n  'GTO',\n  'LEO',\n  'LEO',\n  'GTO',\n  'LEO',\n  'Sub-orbital',\n  'LEO',\n  'LEO',\n  'LEO',\n  'LEO',\n  'LEO',\n  'LEO',\n  'LEO',\n  'LEO',\n  'MEO',\n  'GTO',\n  'LEO',\n  'LEO',\n  'SSO',\n  'LEO',\n  'LEO',\n  'LEO',\n  'LEO',\n  'MEO',\n  'LEO',\n  'LEO',\n  'LEO',\n  'LEO',\n  'GTO',\n  'LEO',\n  'GTO',\n  'LEO',\n  'SSO'],\n 'Customer': ['SpaceX',\n  'NASA',\n  'NASA',\n  'NASA',\n  'NASA',\n  'MDA',\n  'SES',\n  'Thaicom',\n  'NASA',\n  'Orbcomm',\n  'AsiaSat',\n  'AsiaSat',\n  'NASA',\n  'NASA',\n  'USAF',\n  'ABS',\n  'NASA',\n  None,\n  'NASA',\n  'Orbcomm',\n  'NASA',\n  'SES',\n  'NASA',\n  'SKY Perfect JSAT Group',\n  'Thaicom',\n  'ABS',\n  'NASA',\n  'SKY Perfect JSAT Group',\n  'Iridium Communications',\n  'NASA',\n  'EchoStar',\n  'SES',\n  'NRO',\n  'Inmarsat',\n  'NASA',\n  'Bulsatcom',\n  'Iridium Communications',\n  'Intelsat',\n  'NASA',\n  'NSPO',\n  'USAF',\n  'Iridium Communications',\n  'SES S.A.',\n  'KT Corporation',\n  'NASA',\n  'Iridium Communications',\n  'Northrop Grumman',\n  'SES',\n  'Hisdesat',\n  'Hispasat',\n  'Iridium Communications',\n  'NASA',\n  'NASA',\n  'Thales-Alenia',\n  'Iridium Communications',\n  'SES',\n  'NASA',\n  'Telesat',\n  'Iridium Communications',\n  'Telkom Indonesia',\n  'Telesat',\n  'CONAE',\n  \"Es'hailSat\",\n  'Spaceflight Industries',\n  'NASA',\n  'USAF',\n  'Iridium Communications',\n  'PSN',\n  'NASA',\n  'NASA',\n  'SpaceX',\n  'Canadian Space Agency',\n  'NASA',\n  'Spacecom',\n  'SpaceX',\n  'NASA',\n  'Sky Perfect JSAT',\n  'SpaceX',\n  'NASA',\n  'SpaceX',\n  'SpaceX',\n  'NASA',\n  'SpaceX',\n  'SpaceX',\n  'NASA',\n  'SpaceX',\n  'SpaceX',\n  'U.S. Space Force',\n  'Republic of Korea Army',\n  'SpaceX',\n  'SpaceX',\n  'CONAE',\n  'SpaceX',\n  'SpaceX',\n  'SpaceX',\n  'SpaceX',\n  'USSF',\n  'NASA',\n  'NASA',\n  'SpaceX',\n  'NASA',\n  'Sirius XM',\n  'NRO',\n  'T\u00fcrksat',\n  'SpaceX'],\n 'Launchoutcome': None,\n 'Boosterlanding': None,\n 'Launch Site': ['F9 v1.0B0003.1',\n  'F9 v1.0B0003.1',\n  'F9 v1.0B0003.1',\n  'F9 v1.0B0004.1',\n  'F9 v1.0B0005.1',\n  'F9 v1.0B0006.1',\n  'F9 v1.0B0007.1',\n  'F9 v1.1B1003',\n  'F9 v1.1',\n  'F9 v1.1',\n  'F9 v1.1',\n  'F9 v1.1',\n  'F9 v1.1',\n  'F9 v1.1',\n  'F9 v1.1',\n  'F9 v1.1',\n  'F9 v1.1',\n  'F9 v1.1',\n  'F9 v1.1',\n  'F9 v1.1',\n  'F9 v1.1',\n  'F9 FT',\n  'F9 v1.1',\n  'F9 FT',\n  'F9 FT',\n  'F9 FT',\n  'F9 FT',\n  'F9 FT',\n  'F9 FT',\n  'F9 FT',\n  'F9 FT',\n  'F9 FT',\n  'F9 FT',\n  'F9 FT\u267a',\n  'F9 FT',\n  'F9 FT',\n  'F9 FT',\n  'F9 FTB1029.2',\n  'F9 FT',\n  'F9 FT',\n  'F9 B4',\n  'F9 FT',\n  'F9 B4',\n  'F9 B4',\n  'F9 FTB1031.2',\n  'F9 B4',\n  'F9 FTB1035.2',\n  'F9 FTB1036.2',\n  'F9 B4',\n  'F9 FTB1032.2',\n  'F9 FTB1038.2',\n  'F9 B4',\n  'F9 B4B1041.2',\n  'F9 B4B1039.2',\n  'F9 B4',\n  'F9 B5B1046.1',\n  'F9 B4B1043.2',\n  'F9 B4B1040.2',\n  'F9 B4B1045.2',\n  'F9 B5',\n  'F9 B5B1048',\n  'F9 B5B1046.2',\n  'F9 B5',\n  'F9 B5B1048.2',\n  'F9 B5B1047.2',\n  'F9 B5B1046.3',\n  'F9 B5',\n  'F9 B5',\n  'F9 B5B1049.2',\n  'F9 B5B1048.3',\n  'F9 B5[268]',\n  'F9 B5',\n  'F9 B5B1049.3',\n  'F9 B5B1051.2',\n  'F9 B5B1056.2',\n  'F9 B5B1047.3',\n  'F9 B5',\n  'F9 B5',\n  'F9 B5B1056.3',\n  'F9 B5',\n  'F9 B5',\n  'F9 B5',\n  'F9 B5',\n  'F9 B5',\n  'F9 B5',\n  'F9 B5',\n  'F9 B5',\n  'F9 B5',\n  'F9 B5',\n  'F9 B5',\n  'F9 B5B1058.2',\n  'F9 B5',\n  'F9 B5B1049.6',\n  'F9 B5',\n  'F9 B5B1060.2',\n  'F9 B5B1058.3',\n  'F9 B5B1051.6',\n  'F9 B5',\n  'F9 B5',\n  'F9 B5',\n  'F9 B5',\n  'F9 B5 \u267a',\n  'F9 B5 \u267a',\n  'F9 B5 \u267a',\n  'F9 B5 \u267a',\n  'F9 B5',\n  'F9 B5B1051.8',\n  'F9 B5B1058.5'],\n 'Payload': ['Dragon Spacecraft Qualification Unit',\n  'Dragon Spacecraft Qualification Unit',\n  'Dragon Spacecraft Qualification Unit',\n  'Dragon',\n  'Dragon',\n  'SpaceX CRS-1',\n  'SpaceX CRS-2',\n  'CASSIOPE',\n  'SES-8',\n  'Thaicom 6',\n  'SpaceX CRS-3',\n  'Orbcomm-OG2',\n  'AsiaSat 8',\n  'AsiaSat 6',\n  'SpaceX CRS-4',\n  'SpaceX CRS-5',\n  'DSCOVR',\n  'ABS-3A',\n  'SpaceX CRS-6',\n  'T\u00fcrkmen\u00c4lem 52\u00b0E / MonacoSAT',\n  'SpaceX CRS-7',\n  'Orbcomm-OG2',\n  'Jason-3',\n  'SES-9',\n  'SpaceX CRS-8',\n  'JCSAT-14',\n  'Thaicom 8',\n  'ABS-2A',\n  'SpaceX CRS-9',\n  'JCSAT-16',\n  'Iridium NEXT',\n  'SpaceX CRS-10',\n  'EchoStar 23',\n  'SES-10',\n  'NROL-76',\n  'Inmarsat-5 F4',\n  'SpaceX CRS-11',\n  'BulgariaSat-1',\n  'Iridium NEXT',\n  'Intelsat 35e',\n  'SpaceX CRS-12',\n  'Formosat-5',\n  'Boeing X-37B',\n  'Iridium NEXT',\n  'SES-11',\n  'Koreasat 5A',\n  'SpaceX CRS-13',\n  'Iridium NEXT',\n  'Zuma',\n  'GovSat-1',\n  'Paz',\n  'Hispasat 30W-6',\n  'Iridium NEXT',\n  'SpaceX CRS-14',\n  'Transiting Exoplanet Survey Satellite',\n  'Bangabandhu-1',\n  'Iridium NEXT',\n  'SES-12',\n  'SpaceX CRS-15',\n  'Telstar 19V',\n  'Iridium NEXT',\n  'Merah Putih',\n  'Telstar 18V',\n  'SAOCOM 1A',\n  \"Es'hail 2\",\n  'SSO-A',\n  'SpaceX CRS-16',\n  'GPS III',\n  'Iridium NEXT',\n  'Nusantara Satu',\n  'Crew Dragon Demo-1',\n  'SpaceX CRS-17',\n  'Starlink',\n  'RADARSAT Constellation',\n  'SpaceX CRS-18',\n  'AMOS-17',\n  'Starlink',\n  'SpaceX CRS-19',\n  'JCSat-18',\n  'Starlink',\n  'Crew Dragon in-flight abort test',\n  'Starlink',\n  'Starlink',\n  'SpaceX CRS-20',\n  'Starlink',\n  'Starlink',\n  'Crew Dragon Demo-2',\n  'Starlink',\n  'Starlink',\n  'GPS III',\n  'ANASIS-II',\n  'Starlink',\n  'Starlink',\n  'SAOCOM 1B',\n  'Starlink',\n  'Starlink',\n  'Starlink',\n  'Starlink',\n  'GPS III',\n  'Crew-1',\n  'Sentinel-6 Michael Freilich (Jason-CS A)',\n  'Starlink',\n  'SpaceX CRS-21',\n  'SXM-7',\n  'NROL-108',\n  'T\u00fcrksat 5A',\n  'Starlink',\n  'Transporter-1'],\n 'Payload Mass': [0,\n  0,\n  0,\n  0,\n  '525 kg',\n  '4,700 kg',\n  '4,877 kg',\n  '500 kg',\n  '3,170 kg',\n  '3,325 kg',\n  '2,296 kg',\n  '1,316 kg',\n  '4,535 kg',\n  '4,428 kg',\n  '2,216 kg',\n  '2,395 kg',\n  '570 kg',\n  '4,159 kg',\n  '1,898 kg',\n  '4,707 kg',\n  '1,952 kg',\n  '2,034 kg',\n  '553 kg',\n  '5,271 kg',\n  '3,136 kg',\n  '4,696 kg',\n  '3,100 kg',\n  '3,600 kg',\n  '2,257 kg',\n  '4,600 kg',\n  '9,600 kg',\n  '2,490 kg',\n  '5,600 kg',\n  '5,300 kg',\n  'C',\n  '6,070 kg',\n  '2,708 kg',\n  '3,669 kg',\n  '9,600 kg',\n  '6,761 kg',\n  '3,310 kg',\n  '475 kg',\n  '4,990 kg',\n  '9,600 kg',\n  '5,200 kg',\n  '3,500 kg',\n  '2,205 kg',\n  '9,600 kg',\n  'C',\n  '4,230 kg',\n  '2,150 kg',\n  '6,092 kg',\n  '9,600 kg',\n  '2,647 kg',\n  '362 kg',\n  '3,600 kg',\n  '6,460 kg',\n  '5,384 kg',\n  '2,697 kg',\n  '7,075 kg',\n  '9,600 kg',\n  '5,800 kg',\n  '7,060 kg',\n  '3,000 kg',\n  '5,300 kg',\n  '~4,000 kg',\n  '2,500 kg',\n  '4,400 kg',\n  '9,600 kg',\n  '4,850 kg',\n  '12,055 kg',\n  '2,495 kg',\n  '13,620 kg',\n  '4,200 kg',\n  '2,268 kg',\n  '6,500 kg',\n  '15,600 kg',\n  '2,617 kg',\n  '6,956 kg',\n  '15,600 kg',\n  '12,050 kg',\n  '15,600 kg',\n  '15,600 kg',\n  '1,977 kg',\n  '15,600 kg',\n  '15,600 kg',\n  '12,530 kg',\n  '15,600 kg',\n  '15,410 kg',\n  '4,311 kg',\n  '5,000\u20136,000 kg',\n  '14,932 kg',\n  '~15,440 kg',\n  '3,130 kg',\n  '15,600 kg',\n  '15,600 kg',\n  '15,600 kg',\n  '15,600 kg',\n  '4,311 kg',\n  '~12,500 kg',\n  '1,192 kg',\n  '15,600 kg',\n  '2,972 kg',\n  '7,000 kg',\n  'C',\n  '3,500 kg',\n  '15,600 kg',\n  '~5,000 kg'],\n 'Launch Outcome': ['Success\\n',\n  'Success',\n  'Success',\n  'Success\\n',\n  'Success\\n',\n  'Success',\n  'Success',\n  'Success',\n  'Success\\n',\n  'Success',\n  'Success',\n  'Success',\n  'Success',\n  'Success',\n  'Success\\n',\n  'Success\\n',\n  'Success\\n',\n  'Success\\n',\n  'Failure',\n  'Success\\n',\n  'Success\\n',\n  'Success\\n',\n  'Success',\n  'Success\\n',\n  'Success\\n',\n  'Success\\n',\n  'Success\\n',\n  'Success\\n',\n  'Success\\n',\n  'Success\\n',\n  'Success\\n',\n  'Success',\n  'Success\\n',\n  'Success\\n',\n  'Success\\n',\n  'Success\\n',\n  'Success\\n',\n  'Success\\n',\n  'Success\\n',\n  'Success\\n',\n  'Success\\n',\n  'Success\\n',\n  'Success\\n',\n  'Success\\n',\n  'Success\\n',\n  'Success',\n  'Success',\n  'Success',\n  'Success',\n  'Success',\n  'Success',\n  'Success',\n  'Success',\n  'Success',\n  'Success',\n  'Success',\n  'Success',\n  'Success',\n  'Success',\n  'Success',\n  'Success',\n  'Success',\n  'Success',\n  'Success',\n  'Success\\n',\n  'Success',\n  'Success\\n',\n  'Success\\n',\n  'Success\\n',\n  'Success\\n',\n  'Success\\n',\n  'Success\\n',\n  'Success\\n',\n  'Success\\n',\n  'Success\\n',\n  'Success\\n',\n  'Success\\n',\n  'Success\\n',\n  'Success\\n',\n  'Success\\n',\n  'Success\\n',\n  'Success\\n',\n  'Success\\n',\n  'Success\\n',\n  'Success\\n',\n  'Success\\n',\n  'Success\\n',\n  'Success\\n',\n  'Success\\n',\n  'Success\\n',\n  'Success\\n',\n  'Success\\n',\n  'Success\\n',\n  'Success\\n',\n  'Success\\n',\n  'Success\\n',\n  'Success\\n',\n  'Success\\n',\n  'Success\\n',\n  'Success\\n',\n  'Success\\n',\n  'Success\\n',\n  'Success\\n',\n  'Success\\n',\n  'Success\\n'],\n 'Version Booster': ['F9 v1.0B0003.1',\n  'F9 v1.0B0003.1',\n  'F9 v1.0B0003.1',\n  'F9 v1.0B0004.1',\n  'F9 v1.0B0005.1',\n  'F9 v1.0B0006.1',\n  'F9 v1.0B0007.1',\n  'F9 v1.1B1003',\n  'F9 v1.1',\n  'F9 v1.1',\n  'F9 v1.1',\n  'F9 v1.1',\n  'F9 v1.1',\n  'F9 v1.1',\n  'F9 v1.1',\n  'F9 v1.1',\n  'F9 v1.1',\n  'F9 v1.1',\n  'F9 v1.1',\n  'F9 v1.1',\n  'F9 v1.1',\n  'F9 FT',\n  'F9 v1.1',\n  'F9 FT',\n  'F9 FT',\n  'F9 FT',\n  'F9 FT',\n  'F9 FT',\n  'F9 FT',\n  'F9 FT',\n  'F9 FT',\n  'F9 FT',\n  'F9 FT',\n  'F9 FT\u267a',\n  'F9 FT',\n  'F9 FT',\n  'F9 FT',\n  'F9 FTB1029.2',\n  'F9 FT',\n  'F9 FT',\n  'F9 B4',\n  'F9 FT',\n  'F9 B4',\n  'F9 B4',\n  'F9 FTB1031.2',\n  'F9 B4',\n  'F9 FTB1035.2',\n  'F9 FTB1036.2',\n  'F9 B4',\n  'F9 FTB1032.2',\n  'F9 FTB1038.2',\n  'F9 B4',\n  'F9 B4B1041.2',\n  'F9 B4B1039.2',\n  'F9 B4',\n  'F9 B5B1046.1',\n  'F9 B4B1043.2',\n  'F9 B4B1040.2',\n  'F9 B4B1045.2',\n  'F9 B5',\n  'F9 B5B1048',\n  'F9 B5B1046.2',\n  'F9 B5',\n  'F9 B5B1048.2',\n  'F9 B5B1047.2',\n  'F9 B5B1046.3',\n  'F9 B5',\n  'F9 B5',\n  'F9 B5B1049.2',\n  'F9 B5B1048.3',\n  'F9 B5[268]',\n  'F9 B5',\n  'F9 B5B1049.3',\n  'F9 B5B1051.2',\n  'F9 B5B1056.2',\n  'F9 B5B1047.3',\n  'F9 B5',\n  'F9 B5',\n  'F9 B5B1056.3',\n  'F9 B5',\n  'F9 B5',\n  'F9 B5',\n  'F9 B5',\n  'F9 B5',\n  'F9 B5',\n  'F9 B5',\n  'F9 B5',\n  'F9 B5',\n  'F9 B5',\n  'F9 B5',\n  'F9 B5B1058.2',\n  'F9 B5',\n  'F9 B5B1049.6',\n  'F9 B5',\n  'F9 B5B1060.2',\n  'F9 B5B1058.3',\n  'F9 B5B1051.6',\n  'F9 B5',\n  'F9 B5',\n  'F9 B5',\n  'F9 B5',\n  'F9 B5 \u267a',\n  'F9 B5 \u267a',\n  'F9 B5 \u267a',\n  'F9 B5 \u267a',\n  'F9 B5',\n  'F9 B5B1051.8',\n  'F9 B5B1058.5'],\n 'Booster Landing': ['Success\\n',\n  'Success',\n  'Success',\n  'Success\\n',\n  'Success\\n',\n  'Success',\n  'Success',\n  'Success',\n  'Success\\n',\n  'Success',\n  'Success',\n  'Success',\n  'Success',\n  'Success',\n  'Success\\n',\n  'Success\\n',\n  'Success\\n',\n  'Success\\n',\n  'Failure',\n  'Success\\n',\n  'Success\\n',\n  'Success\\n',\n  'Success',\n  'Success\\n',\n  'Success\\n',\n  'Success\\n',\n  'Success\\n',\n  'Success\\n',\n  'Success\\n',\n  'Success\\n',\n  'Success\\n',\n  'Success',\n  'Success\\n',\n  'Success\\n',\n  'Success\\n',\n  'Success\\n',\n  'Success\\n',\n  'Success\\n',\n  'Success\\n',\n  'Success\\n',\n  'Success\\n',\n  'Success\\n',\n  'Success\\n',\n  'Success\\n',\n  'Success\\n',\n  'Success',\n  'Success',\n  'Success',\n  'Success',\n  'Success',\n  'Success',\n  'Success',\n  'Success',\n  'Success',\n  'Success',\n  'Success',\n  'Success',\n  'Success',\n  'Success',\n  'Success',\n  'Success',\n  'Success',\n  'Success',\n  'Success',\n  'Success\\n',\n  'Success',\n  'Success\\n',\n  'Success\\n',\n  'Success\\n',\n  'Success\\n',\n  'Success\\n',\n  'Success\\n',\n  'Success\\n',\n  'Success\\n',\n  'Success\\n',\n  'Success\\n',\n  'Success\\n',\n  'Success\\n',\n  'Success\\n',\n  'Success\\n',\n  'Success\\n',\n  'Success\\n',\n  'Success\\n',\n  'Success\\n',\n  'Success\\n',\n  'Success\\n',\n  'Success\\n',\n  'Success\\n',\n  'Success\\n',\n  'Success\\n',\n  'Success\\n',\n  'Success\\n',\n  'Success\\n',\n  'Success\\n',\n  'Success\\n',\n  'Success\\n',\n  'Success\\n',\n  'Success\\n',\n  'Success\\n',\n  'Success\\n',\n  'Success\\n',\n  'Success\\n',\n  'Success\\n',\n  'Success\\n',\n  'Success\\n'],\n 'Date': ['4 June 2010',\n  '4 June 2010',\n  '4 June 2010',\n  '8 December 2010',\n  '22 May 2012',\n  '8 October 2012',\n  '1 March 2013',\n  '29 September 2013',\n  '3 December 2013',\n  '6 January 2014',\n  '18 April 2014',\n  '14 July 2014',\n  '5 August 2014',\n  '7 September 2014',\n  '21 September 2014',\n  '10 January 2015',\n  '11 February 2015',\n  '2 March 2015',\n  '14 April 2015',\n  '27 April 2015',\n  '28 June 2015',\n  '22 December 2015',\n  '17 January 2016',\n  '4 March 2016',\n  '8 April 2016',\n  '6 May 2016',\n  '27 May 2016',\n  '15 June 2016',\n  '18 July 2016',\n  '14 August 2016',\n  '14 January 2017',\n  '19 February 2017',\n  '16 March 2017',\n  '30 March 2017',\n  '1 May 2017',\n  '15 May 2017',\n  '3 June 2017',\n  '23 June 2017',\n  '25 June 2017',\n  '5 July 2017',\n  '14 August 2017',\n  '24 August 2017',\n  '7 September 2017',\n  '9 October 2017',\n  '11 October 2017',\n  '30 October 2017',\n  '15 December 2017',\n  '23 December 2017',\n  '8 January 2018',\n  '31 January 2018',\n  '22 February 2018',\n  '6 March 2018',\n  '30 March 2018',\n  '2 April 2018',\n  '18 April 2018',\n  '11 May 2018',\n  '22 May 2018',\n  '4 June 2018',\n  '29 June 2018',\n  '22 July 2018',\n  '25 July 2018',\n  '7 August 2018',\n  '10 September 2018',\n  '8 October 2018',\n  '15 November 2018',\n  '3 December 2018',\n  '5 December 2018',\n  '23 December 2018',\n  '11 January 2019',\n  '22 February 2019',\n  '2 March 2019',\n  '4 May 2019',\n  '24 May 2019',\n  '12 June 2019',\n  '25 July 2019',\n  '6 August 2019',\n  '11 November 2019',\n  '5 December 2019',\n  '17 December 2019',\n  '7 January 2020',\n  '19 January 2020',\n  '29 January 2020',\n  '17 February 2020',\n  '7 March 2020',\n  '18 March 2020',\n  '22 April 2020',\n  '30 May 2020',\n  '4 June 2020',\n  '13 June 2020',\n  '30 June 2020',\n  '20 July 2020',\n  '7 August 2020',\n  '18 August 2020',\n  '30 August 2020',\n  '3 September 2020',\n  '6 October 2020',\n  '18 October 2020',\n  '24 October 2020',\n  '5 November 2020',\n  '16 November 2020',\n  '21 November 2020',\n  '25 November 2020',\n  '6 December 2020',\n  '13 December 2020',\n  '19 December 2020',\n  '8 January 2021',\n  '20 January 2021',\n  '24 January 2021'],\n 'Time': ['18:45',\n  '18:45',\n  '18:45',\n  '15:43',\n  '07:44',\n  '00:35',\n  '15:10',\n  '16:00',\n  '22:41',\n  '22:06',\n  '19:25',\n  '15:15',\n  '08:00',\n  '05:00',\n  '05:52',\n  '09:47',\n  '23:03',\n  '03:50',\n  '20:10',\n  '23:03',\n  '14:21',\n  '01:29',\n  '18:42',\n  '23:35',\n  '20:43',\n  '05:21',\n  '21:39',\n  '14:29',\n  '04:45',\n  '05:26',\n  '17:54',\n  '14:39',\n  '06:00',\n  '22:27',\n  '11:15',\n  '23:21',\n  '21:07',\n  '19:10',\n  '20:25',\n  '23:38',\n  '16:31',\n  '18:51',\n  '14:00',\n  '12:37',\n  '22:53:00',\n  '19:34',\n  '15:36',\n  '01:27',\n  '01:00',\n  '21:25',\n  '14:17',\n  '05:33',\n  '14:14',\n  '20:30',\n  '22:51',\n  '20:14',\n  '19:47',\n  '04:45',\n  '09:42',\n  '05:50',\n  '11:39',\n  '05:18',\n  '04:45',\n  '02:22',\n  '20:46',\n  '18:34:05',\n  '18:16',\n  '13:51',\n  '15:31',\n  '01:45',\n  '07:49',\n  '06:48',\n  '02:30',\n  '14:17',\n  '22:01',\n  '23:23',\n  '14:56',\n  '17:29',\n  '00:10',\n  '02:19:21',\n  '15:30',\n  '14:07',\n  '15:05',\n  '04:50',\n  '12:16',\n  '19:30',\n  '19:22',\n  '01:25',\n  '09:21',\n  '20:10:46',\n  '21:30',\n  '05:12',\n  '14:31',\n  '23:18',\n  '12:46:14',\n  '11:29:34',\n  '12:25:57',\n  '15:31:34',\n  '23:24:23',\n  '00:27',\n  '17:17:08',\n  '02:13',\n  '16:17:08',\n  '17:30:00',\n  '14:00:00',\n  '02:15',\n  '13:02',\n  '15:00']}"
                    },
                    "execution_count": 16,
                    "metadata": {},
                    "output_type": "execute_result"
                }
            ],
            "source": "launch_dict"
        },
        {
            "cell_type": "code",
            "execution_count": 17,
            "metadata": {
                "scrolled": true
            },
            "outputs": [
                {
                    "data": {
                        "text/html": "<div>\n<style scoped>\n    .dataframe tbody tr th:only-of-type {\n        vertical-align: middle;\n    }\n\n    .dataframe tbody tr th {\n        vertical-align: top;\n    }\n\n    .dataframe thead th {\n        text-align: right;\n    }\n</style>\n<table border=\"1\" class=\"dataframe\">\n  <thead>\n    <tr style=\"text-align: right;\">\n      <th></th>\n      <th>Flight No.</th>\n      <th>Orbit</th>\n      <th>Customer</th>\n      <th>Launch Site</th>\n      <th>Payload</th>\n      <th>Payload Mass</th>\n      <th>Launch Outcome</th>\n      <th>Version Booster</th>\n      <th>Booster Landing</th>\n      <th>Date</th>\n      <th>Time</th>\n    </tr>\n  </thead>\n  <tbody>\n    <tr>\n      <th>0</th>\n      <td>1</td>\n      <td>LEO</td>\n      <td>SpaceX</td>\n      <td>F9 v1.0B0003.1</td>\n      <td>Dragon Spacecraft Qualification Unit</td>\n      <td>0</td>\n      <td>Success\\n</td>\n      <td>F9 v1.0B0003.1</td>\n      <td>Success\\n</td>\n      <td>4 June 2010</td>\n      <td>18:45</td>\n    </tr>\n    <tr>\n      <th>1</th>\n      <td>1</td>\n      <td>LEO</td>\n      <td>NASA</td>\n      <td>F9 v1.0B0003.1</td>\n      <td>Dragon Spacecraft Qualification Unit</td>\n      <td>0</td>\n      <td>Success</td>\n      <td>F9 v1.0B0003.1</td>\n      <td>Success</td>\n      <td>4 June 2010</td>\n      <td>18:45</td>\n    </tr>\n    <tr>\n      <th>2</th>\n      <td>1</td>\n      <td>LEO</td>\n      <td>NASA</td>\n      <td>F9 v1.0B0003.1</td>\n      <td>Dragon Spacecraft Qualification Unit</td>\n      <td>0</td>\n      <td>Success</td>\n      <td>F9 v1.0B0003.1</td>\n      <td>Success</td>\n      <td>4 June 2010</td>\n      <td>18:45</td>\n    </tr>\n    <tr>\n      <th>3</th>\n      <td>2</td>\n      <td>LEO</td>\n      <td>NASA</td>\n      <td>F9 v1.0B0004.1</td>\n      <td>Dragon</td>\n      <td>0</td>\n      <td>Success\\n</td>\n      <td>F9 v1.0B0004.1</td>\n      <td>Success\\n</td>\n      <td>8 December 2010</td>\n      <td>15:43</td>\n    </tr>\n    <tr>\n      <th>4</th>\n      <td>3</td>\n      <td>LEO</td>\n      <td>NASA</td>\n      <td>F9 v1.0B0005.1</td>\n      <td>Dragon</td>\n      <td>525 kg</td>\n      <td>Success\\n</td>\n      <td>F9 v1.0B0005.1</td>\n      <td>Success\\n</td>\n      <td>22 May 2012</td>\n      <td>07:44</td>\n    </tr>\n  </tbody>\n</table>\n</div>",
                        "text/plain": "  Flight No. Orbit Customer     Launch Site  \\\n0          1   LEO   SpaceX  F9 v1.0B0003.1   \n1          1   LEO     NASA  F9 v1.0B0003.1   \n2          1   LEO     NASA  F9 v1.0B0003.1   \n3          2   LEO     NASA  F9 v1.0B0004.1   \n4          3   LEO     NASA  F9 v1.0B0005.1   \n\n                                Payload Payload Mass Launch Outcome  \\\n0  Dragon Spacecraft Qualification Unit            0      Success\\n   \n1  Dragon Spacecraft Qualification Unit            0        Success   \n2  Dragon Spacecraft Qualification Unit            0        Success   \n3                                Dragon            0      Success\\n   \n4                                Dragon       525 kg      Success\\n   \n\n  Version Booster Booster Landing             Date   Time  \n0  F9 v1.0B0003.1       Success\\n      4 June 2010  18:45  \n1  F9 v1.0B0003.1         Success      4 June 2010  18:45  \n2  F9 v1.0B0003.1         Success      4 June 2010  18:45  \n3  F9 v1.0B0004.1       Success\\n  8 December 2010  15:43  \n4  F9 v1.0B0005.1       Success\\n      22 May 2012  07:44  "
                    },
                    "execution_count": 17,
                    "metadata": {},
                    "output_type": "execute_result"
                }
            ],
            "source": "headings = []\nfor key,values in dict(launch_dict).items():\n    if key not in headings:\n        headings.append(key)\n    if values is None:\n        del launch_dict[key]\n\ndef pad_dict_list(dict_list, padel):\n    lmax = 0\n    for lname in dict_list.keys():\n        lmax = max(lmax, len(dict_list[lname]))\n    for lname in dict_list.keys():\n        ll = len(dict_list[lname])\n        if  ll < lmax:\n            dict_list[lname] += [padel] * (lmax - ll)\n    return dict_list\n\npad_dict_list(launch_dict,0)\n\ndf = pd.DataFrame(launch_dict)\ndf.head()"
        },
        {
            "cell_type": "code",
            "execution_count": 18,
            "metadata": {},
            "outputs": [
                {
                    "data": {
                        "text/html": "<div>\n<style scoped>\n    .dataframe tbody tr th:only-of-type {\n        vertical-align: middle;\n    }\n\n    .dataframe tbody tr th {\n        vertical-align: top;\n    }\n\n    .dataframe thead th {\n        text-align: right;\n    }\n</style>\n<table border=\"1\" class=\"dataframe\">\n  <thead>\n    <tr style=\"text-align: right;\">\n      <th></th>\n      <th>Flight No.</th>\n      <th>Orbit</th>\n      <th>Customer</th>\n      <th>Launch Site</th>\n      <th>Payload</th>\n      <th>Payload Mass</th>\n      <th>Launch Outcome</th>\n      <th>Version Booster</th>\n      <th>Booster Landing</th>\n      <th>Date</th>\n      <th>Time</th>\n    </tr>\n  </thead>\n  <tbody>\n    <tr>\n      <th>count</th>\n      <td>108</td>\n      <td>108</td>\n      <td>107</td>\n      <td>108</td>\n      <td>108</td>\n      <td>108</td>\n      <td>108</td>\n      <td>108</td>\n      <td>108</td>\n      <td>108</td>\n      <td>108</td>\n    </tr>\n    <tr>\n      <th>unique</th>\n      <td>106</td>\n      <td>9</td>\n      <td>38</td>\n      <td>44</td>\n      <td>79</td>\n      <td>81</td>\n      <td>4</td>\n      <td>44</td>\n      <td>4</td>\n      <td>106</td>\n      <td>102</td>\n    </tr>\n    <tr>\n      <th>top</th>\n      <td>1</td>\n      <td>LEO</td>\n      <td>NASA</td>\n      <td>F9 B5</td>\n      <td>Starlink</td>\n      <td>15,600 kg</td>\n      <td>Success\\n</td>\n      <td>F9 B5</td>\n      <td>Success\\n</td>\n      <td>4 June 2010</td>\n      <td>18:45</td>\n    </tr>\n    <tr>\n      <th>freq</th>\n      <td>3</td>\n      <td>53</td>\n      <td>30</td>\n      <td>25</td>\n      <td>17</td>\n      <td>13</td>\n      <td>72</td>\n      <td>25</td>\n      <td>72</td>\n      <td>3</td>\n      <td>3</td>\n    </tr>\n  </tbody>\n</table>\n</div>",
                        "text/plain": "       Flight No. Orbit Customer Launch Site   Payload Payload Mass  \\\ncount         108   108      107         108       108          108   \nunique        106     9       38          44        79           81   \ntop             1   LEO     NASA       F9 B5  Starlink    15,600 kg   \nfreq            3    53       30          25        17           13   \n\n       Launch Outcome Version Booster Booster Landing         Date   Time  \ncount             108             108             108          108    108  \nunique              4              44               4          106    102  \ntop         Success\\n           F9 B5       Success\\n  4 June 2010  18:45  \nfreq               72              25              72            3      3  "
                    },
                    "execution_count": 18,
                    "metadata": {},
                    "output_type": "execute_result"
                }
            ],
            "source": "df.describe()"
        },
        {
            "cell_type": "markdown",
            "metadata": {},
            "source": "We can now export it to a <b>CSV</b> for the next section, but to make the answers consistent and in case you have difficulties finishing this lab.\n\nFollowing labs will be using a provided dataset to make each lab independent.\n"
        },
        {
            "cell_type": "markdown",
            "metadata": {},
            "source": "<code>df.to_csv('spacex_web_scraped.csv', index=False)</code>\n"
        },
        {
            "cell_type": "code",
            "execution_count": null,
            "metadata": {},
            "outputs": [],
            "source": "df.to_csv('spacex_web_scraped.csv', index=False)"
        },
        {
            "cell_type": "markdown",
            "metadata": {},
            "source": "## Authors\n"
        },
        {
            "cell_type": "markdown",
            "metadata": {},
            "source": "<a href=\"https://www.linkedin.com/in/yan-luo-96288783/?utm_medium=Exinfluencer&utm_source=Exinfluencer&utm_content=000026UJ&utm_term=10006555&utm_id=NA-SkillsNetwork-Channel-SkillsNetworkCoursesIBMDS0321ENSkillsNetwork26802033-2021-01-01\">Yan Luo</a>\n"
        },
        {
            "cell_type": "markdown",
            "metadata": {},
            "source": "<a href=\"https://www.linkedin.com/in/nayefaboutayoun/?utm_medium=Exinfluencer&utm_source=Exinfluencer&utm_content=000026UJ&utm_term=10006555&utm_id=NA-SkillsNetwork-Channel-SkillsNetworkCoursesIBMDS0321ENSkillsNetwork26802033-2021-01-01\">Nayef Abou Tayoun</a>\n"
        },
        {
            "cell_type": "markdown",
            "metadata": {},
            "source": "## Change Log\n"
        },
        {
            "cell_type": "markdown",
            "metadata": {},
            "source": "| Date (YYYY-MM-DD) | Version | Changed By | Change Description          |\n| ----------------- | ------- | ---------- | --------------------------- |\n| 2021-06-09        | 1.0     | Yan Luo    | Tasks updates               |\n| 2020-11-10        | 1.0     | Nayef      | Created the initial version |\n"
        },
        {
            "cell_type": "markdown",
            "metadata": {},
            "source": "Copyright \u00a9 2021 IBM Corporation. All rights reserved.\n"
        }
    ],
    "metadata": {
        "kernelspec": {
            "display_name": "Python 3.9",
            "language": "python",
            "name": "python3"
        },
        "language_info": {
            "codemirror_mode": {
                "name": "ipython",
                "version": 3
            },
            "file_extension": ".py",
            "mimetype": "text/x-python",
            "name": "python",
            "nbconvert_exporter": "python",
            "pygments_lexer": "ipython3",
            "version": "3.9.7"
        }
    },
    "nbformat": 4,
    "nbformat_minor": 4
}